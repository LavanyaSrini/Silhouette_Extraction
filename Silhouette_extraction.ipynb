{
 "cells": [
  {
   "cell_type": "code",
   "execution_count": null,
   "metadata": {},
   "outputs": [],
   "source": [
    "# HOG based Pedestrain detection\n",
    "\n",
    "import cv2\n",
    "\n",
    "file1 = open(\"sample1.txt\",\"w\") \n",
    "vidcap = cv2.VideoCapture('Capture0184.mov')\n",
    "hog = cv2.HOGDescriptor()\n",
    "hog.setSVMDetector(cv2.HOGDescriptor_getDefaultPeopleDetector())\n",
    "success,image = vidcap.read()\n",
    "count = 0\n",
    "success = True\n",
    "while success:\n",
    "    gray_frame = cv2.cvtColor(image, cv2.COLOR_RGB2GRAY)\n",
    "    rects, weights = hog.detectMultiScale(gray_frame)\n",
    "    for i, (x, y, w, h) in enumerate(rects):\n",
    "        if weights[i] < 0.8:\n",
    "            continue\n",
    "                \n",
    "        final_image=cv2.rectangle(image, (x,y), (x+w,y+h),(0,255,0),2)\n",
    "        Area=w*h\n",
    "        if Area>=70688:\n",
    "            file1.write(\"{0} {1} {2} {3} {4} \\n \".format(count, x, y, x+w, y+h))\n",
    "    success,image = vidcap.read()\n",
    "    count += 1"
   ]
  },
  {
   "cell_type": "code",
   "execution_count": null,
   "metadata": {},
   "outputs": [],
   "source": [
    "# Silhouette Extraction\n",
    "\n",
    "import cv2\n",
    "import numpy as np\n",
    "from PIL import Image\n",
    "import glob\n",
    "image_list = []\n",
    "rectangles = []\n",
    "\n",
    "\n",
    "f=open(\"sample1.txt\") \n",
    "data =f.readline()\n",
    "data=data.split()\n",
    "\n",
    "   \n",
    "cap = cv2.VideoCapture(\"Capture0184.mov\")\n",
    "ret, frame = cap.read() \n",
    "mask = np.zeros(frame.shape,np.uint8)\n",
    "count=0\n",
    "ret=True\n",
    "while ret:\n",
    "    cap.set(1,int(data[0])); \n",
    "\n",
    "\n",
    "\n",
    "    frame = cv2.rectangle(frame,(int(data[1]),int(data[4])),(int(data[3]),int(data[2])),(0,0,0),1) \n",
    "    mask = np.zeros(frame.shape,np.uint8)\n",
    "    mask[int(data[2]):int(data[4]),int(data[1]):int(data[3])] = frame[int(data[2]):int(data[4]),int(data[1]):int(data[3])]\n",
    "    cv2.imwrite(\"samples/frame%d.jpg\" % count,mask)\n",
    "    data= f.readline()\n",
    "    data=data.split()\n",
    "    ret, frame = cap.read() \n",
    "    count +=1\n",
    "\n",
    "\n",
    "\n"
   ]
  }
 ],
 "metadata": {
  "kernelspec": {
   "display_name": "Python 3",
   "language": "python",
   "name": "python3"
  },
  "language_info": {
   "codemirror_mode": {
    "name": "ipython",
    "version": 3
   },
   "file_extension": ".py",
   "mimetype": "text/x-python",
   "name": "python",
   "nbconvert_exporter": "python",
   "pygments_lexer": "ipython3",
   "version": "3.7.4"
  }
 },
 "nbformat": 4,
 "nbformat_minor": 2
}
